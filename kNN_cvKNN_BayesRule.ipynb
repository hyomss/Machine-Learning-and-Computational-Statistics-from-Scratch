{
  "cells": [
    {
      "cell_type": "markdown",
      "source": [
        "**Background**:  ESL Section 2.3.1 Senario 2.   \n",
        "\n",
        "The two-dimensional data $X \\in \\mathbb{R}^2$ in each class are generated from a mixture of 10 different bivariate Gaussian distributions with uncorrelated components and different means, i.e.,  \n",
        "\n",
        "$X \\mid Y = k, Z = j \\sim N(\\mathbf{m}_{k,j}, s^2 \\mathbf{I}_2)$  \n",
        "\n",
        "where $k = 0, 1$, and $j = 1, 2, \\ldots, 10$. Set  \n",
        "\n",
        "$P(Y = k) = \\frac{1}{2}, \\quad P(Z = j) = \\frac{1}{10}, \\quad s^2 = \\frac{1}{5}.$  \n",
        "\n",
        "In other words, given $Y = k$, $X$ follows a mixture distribution with probability density function (PDF)  \n",
        "\n",
        "$\\frac{1}{10} \\sum_{j=1}^{10} \\left( \\frac{1}{\\sqrt{2\\pi s^2}} \\right)^2 e^{-\\|\\mathbf{x} - \\mathbf{m}_{k,j}\\|^2 / (2s^2)}.$\n"
      ],
      "metadata": {
        "id": "EReTMP9k44_t"
      }
    },
    {
      "cell_type": "markdown",
      "metadata": {
        "id": "gxaCEbGgHoHb"
      },
      "source": [
        "# Part 1: Generate Data"
      ]
    },
    {
      "cell_type": "code",
      "execution_count": null,
      "metadata": {
        "id": "aJ9Vft9-H7rg"
      },
      "outputs": [],
      "source": [
        "import numpy as np\n",
        "import matplotlib.pyplot as plt"
      ]
    },
    {
      "cell_type": "markdown",
      "metadata": {
        "id": "M0tpTLOKJBSI"
      },
      "source": [
        "## a) Generate 20 Centers from two-dimensional normal and randomly split into two classes of 10"
      ]
    },
    {
      "cell_type": "code",
      "execution_count": null,
      "metadata": {
        "id": "VF75Bi9HDeQv"
      },
      "outputs": [],
      "source": [
        "np.random.seed(7216)\n",
        "csize = 10\n",
        "p = 2\n",
        "s = 1;      # sd for generating the centers within each class\n",
        "m1 = np.random.normal(size = (csize, p)) * s \\\n",
        "     + np.concatenate([np.array([[1, 0]] * csize)])\n",
        "m0 = np.random.normal(size = (csize, p)) * s \\\n",
        "     + np.concatenate([np.array([[0, 1]] * csize)])"
      ]
    },
    {
      "cell_type": "markdown",
      "metadata": {
        "id": "2h0pJEoaJC9l"
      },
      "source": [
        "## b) Generate 200 Training data & 10,000 Test data Around the 20 Centers"
      ]
    },
    {
      "cell_type": "code",
      "execution_count": null,
      "metadata": {
        "id": "aEG4fLHv6Gne"
      },
      "outputs": [],
      "source": [
        "np.random.seed(7216)\n",
        "n = 100\n",
        "# Randomly allocate the n samples for class 1  to the 10 clusters\n",
        "id1 = np.random.randint(csize, size = n)\n",
        "id0 = np.random.randint(csize, size = n)\n",
        "\n",
        "# sd for generating data\n",
        "s = np.sqrt(float(1)/5)\n",
        "\n",
        "traindata = np.random.normal(size = (2 * n, p)) * s \\\n",
        "            + np.concatenate([m1[id1,:], m0[id0,:]])\n",
        "ytrain = np.concatenate(([1]*n, [0]*n))\n",
        "\n",
        "\n"
      ]
    },
    {
      "cell_type": "code",
      "execution_count": null,
      "metadata": {
        "id": "C8K3u1C06JBW"
      },
      "outputs": [],
      "source": [
        "np.random.seed(7216)\n",
        "N = 5000\n",
        "# Randomly allocate the n samples for class 1  to the 10 clusters\n",
        "id2 = np.random.randint(csize, size = N)\n",
        "id3 = np.random.randint(csize, size = N)\n",
        "\n",
        "# sd for generating data\n",
        "s = np.sqrt(float(1)/5)\n",
        "\n",
        "testdata = np.random.normal(size = (2 * N, p)) * s \\\n",
        "            + np.concatenate([m1[id2,:], m0[id3,:]])\n",
        "ytest = np.concatenate(([1] * N, [0] * N))"
      ]
    },
    {
      "cell_type": "markdown",
      "metadata": {
        "id": "lABTti9vSHzo"
      },
      "source": [
        "## c) Visualize Train Data"
      ]
    },
    {
      "cell_type": "code",
      "execution_count": null,
      "metadata": {
        "colab": {
          "base_uri": "https://localhost:8080/",
          "height": 430
        },
        "id": "E6MWkmI-JwqZ",
        "outputId": "35e7445c-7455-4f2d-b369-babe782803bf"
      },
      "outputs": [
        {
          "output_type": "display_data",
          "data": {
            "text/plain": [
              "<Figure size 640x480 with 1 Axes>"
            ],
            "image/png": "[encoded data removed]"
          },
          "metadata": {}
        }
      ],
      "source": [
        "plt.scatter(traindata[:n, 0], traindata[:n, 1], c = \"blue\", alpha=0.2, label='Class 1')\n",
        "plt.scatter(traindata[n:, 0], traindata[n:, 1], c = \"red\", alpha=0.2, label='Class 0')\n",
        "\n",
        "plt.scatter(m1[:,0], m1[:,1], marker = '+', s = 100, c = \"blue\")\n",
        "plt.scatter(m0[:,0], m0[:,1], marker = '+', s = 100, c = \"red\")\n",
        "\n",
        "plt.legend()\n",
        "plt.show()"
      ]
    },
    {
      "cell_type": "markdown",
      "metadata": {
        "id": "w50JfxDISL8R"
      },
      "source": [
        "# Part 2: KNN"
      ]
    },
    {
      "cell_type": "markdown",
      "metadata": {
        "id": "zK1yzBGN466O"
      },
      "source": [
        "## a) Implement KNN from scratch"
      ]
    },
    {
      "cell_type": "code",
      "execution_count": null,
      "metadata": {
        "id": "x1z7VK59518w"
      },
      "outputs": [],
      "source": [
        "import numpy as np\n",
        "\n",
        "def myknn(train, test, K):\n",
        "    def dists(train, test):\n",
        "        x2 = np.sum(train**2, axis=1)  # shape of (m)\n",
        "        y2 = np.sum(test**2, axis=1)  # shape of (n)\n",
        "        xy = np.matmul(train, test.T)\n",
        "        x2 = x2.reshape(-1, 1)\n",
        "        d = np.sqrt(x2 - 2*xy + y2)  # shape of (m, n)\n",
        "        return d\n",
        "\n",
        "    # Compute the distance matrix\n",
        "    d = dists(train, test)\n",
        "    majority_vote=[]\n",
        "    for i in range(d.shape[1]):\n",
        "        # Get the indices of the K smallest distances in the i-th column\n",
        "        v = ytrain[np.argsort(d[:, i])[:K]]\n",
        "        v2 = 1 if sum(v) > len(v) / 2 else 0\n",
        "        majority_vote.append(v2)\n",
        "\n",
        "    return majority_vote"
      ]
    },
    {
      "cell_type": "markdown",
      "metadata": {
        "id": "qyZO81pA5dRj"
      },
      "source": [
        "## b) How to handle ties"
      ]
    },
    {
      "cell_type": "markdown",
      "metadata": {
        "id": "aFclAZ83fsHV"
      },
      "source": [
        "\n",
        "\n",
        "*   For Distance Tie: Because of argsort function, the first index is selected when there is distance tie.\n",
        "*   For Vote Tie:  To prevent vote tie, use odd number of K.\n",
        "\n",
        "  \n"
      ]
    },
    {
      "cell_type": "markdown",
      "metadata": {
        "id": "9bvSgC005uSn"
      },
      "source": [
        "## c) Test code and compare with built-in function"
      ]
    },
    {
      "cell_type": "markdown",
      "metadata": {
        "id": "xTvA06F76kna"
      },
      "source": [
        "**k=1**"
      ]
    },
    {
      "cell_type": "code",
      "execution_count": null,
      "metadata": {
        "id": "tZEUdHy06pJh"
      },
      "outputs": [],
      "source": [
        "from sklearn.neighbors import KNeighborsClassifier\n",
        "from sklearn.metrics import confusion_matrix, ConfusionMatrixDisplay\n",
        "import matplotlib.pyplot as plt\n",
        "import seaborn as sns"
      ]
    },
    {
      "cell_type": "code",
      "execution_count": null,
      "metadata": {
        "id": "NGA9w7uLTvVy"
      },
      "outputs": [],
      "source": [
        "mypredict=myknn(traindata,testdata,1)\n",
        "knn = KNeighborsClassifier(n_neighbors=1)\n",
        "knn.fit(traindata, ytrain)\n",
        "predictions = knn.predict(testdata)"
      ]
    },
    {
      "cell_type": "code",
      "execution_count": null,
      "metadata": {
        "colab": {
          "base_uri": "https://localhost:8080/",
          "height": 449
        },
        "id": "sRP8jTl666uK",
        "outputId": "422a8482-5b2d-4fce-b9be-5e8beb6f3eb1"
      },
      "outputs": [
        {
          "output_type": "display_data",
          "data": {
            "text/plain": [
              "<Figure size 640x480 with 2 Axes>"
            ],
            "image/png": "[encoded data removed]"
          },
          "metadata": {}
        }
      ],
      "source": [
        "cm = confusion_matrix(mypredict, ytest)\n",
        "disp = ConfusionMatrixDisplay(confusion_matrix=cm)\n",
        "disp.plot(cmap=plt.cm.Blues)\n",
        "plt.show()"
      ]
    },
    {
      "cell_type": "code",
      "execution_count": null,
      "metadata": {
        "colab": {
          "base_uri": "https://localhost:8080/",
          "height": 449
        },
        "id": "XeewJnvl9i4H",
        "outputId": "750e3ea8-4ee7-4d3c-eedf-29ba9a82c5cd"
      },
      "outputs": [
        {
          "output_type": "display_data",
          "data": {
            "text/plain": [
              "<Figure size 640x480 with 2 Axes>"
            ],
            "image/png": "[encoded data removed]"
          },
          "metadata": {}
        }
      ],
      "source": [
        "cm = confusion_matrix(predictions, ytest)\n",
        "disp = ConfusionMatrixDisplay(confusion_matrix=cm)\n",
        "disp.plot(cmap=plt.cm.Blues)\n",
        "plt.show()"
      ]
    },
    {
      "cell_type": "markdown",
      "metadata": {
        "id": "EHOXqhxK69Tv"
      },
      "source": [
        "**k=3**"
      ]
    },
    {
      "cell_type": "code",
      "execution_count": null,
      "metadata": {
        "colab": {
          "base_uri": "https://localhost:8080/",
          "height": 449
        },
        "id": "XWKNCor66_G-",
        "outputId": "43880e9e-f9a8-48c5-e10b-2fea1e997454"
      },
      "outputs": [
        {
          "output_type": "display_data",
          "data": {
            "text/plain": [
              "<Figure size 640x480 with 2 Axes>"
            ],
            "image/png": "[encoded data removed]"
          },
          "metadata": {}
        }
      ],
      "source": [
        "mypredict=myknn(traindata,testdata,3)\n",
        "knn = KNeighborsClassifier(n_neighbors=3)\n",
        "knn.fit(traindata, ytrain)\n",
        "predictions = knn.predict(testdata)\n",
        "cm = confusion_matrix(mypredict, ytest)\n",
        "disp = ConfusionMatrixDisplay(confusion_matrix=cm)\n",
        "disp.plot(cmap=plt.cm.Blues)\n",
        "plt.show()"
      ]
    },
    {
      "cell_type": "code",
      "execution_count": null,
      "metadata": {
        "colab": {
          "base_uri": "https://localhost:8080/",
          "height": 449
        },
        "id": "1p4UoQPI96bi",
        "outputId": "b77044f0-4a4b-4cc9-abad-320d43f89136"
      },
      "outputs": [
        {
          "output_type": "display_data",
          "data": {
            "text/plain": [
              "<Figure size 640x480 with 2 Axes>"
            ],
            "image/png": "[encoded data removed]"
          },
          "metadata": {}
        }
      ],
      "source": [
        "cm = confusion_matrix(predictions, ytest)\n",
        "disp = ConfusionMatrixDisplay(confusion_matrix=cm)\n",
        "disp.plot(cmap=plt.cm.Blues)\n",
        "plt.show()"
      ]
    },
    {
      "cell_type": "markdown",
      "metadata": {
        "id": "N8kKNazk7Dl5"
      },
      "source": [
        "**k=5**"
      ]
    },
    {
      "cell_type": "code",
      "execution_count": null,
      "metadata": {
        "colab": {
          "base_uri": "https://localhost:8080/",
          "height": 449
        },
        "id": "6c4XYhUN7BaH",
        "outputId": "2ebb366f-ef43-4393-ea18-09d1c6852f92"
      },
      "outputs": [
        {
          "output_type": "display_data",
          "data": {
            "text/plain": [
              "<Figure size 640x480 with 2 Axes>"
            ],
            "image/png": "[encoded data removed]"
          },
          "metadata": {}
        }
      ],
      "source": [
        "mypredict=myknn(traindata,testdata,5)\n",
        "knn = KNeighborsClassifier(n_neighbors=5)\n",
        "knn.fit(traindata, ytrain)\n",
        "predictions = knn.predict(testdata)\n",
        "cm = confusion_matrix(mypredict, ytest)\n",
        "disp = ConfusionMatrixDisplay(confusion_matrix=cm)\n",
        "disp.plot(cmap=plt.cm.Blues)\n",
        "plt.show()"
      ]
    },
    {
      "cell_type": "code",
      "execution_count": null,
      "metadata": {
        "colab": {
          "base_uri": "https://localhost:8080/",
          "height": 449
        },
        "id": "tuCLPaX297mw",
        "outputId": "8a02d3d9-6d77-4ebf-cff7-85754c74f3a9"
      },
      "outputs": [
        {
          "output_type": "display_data",
          "data": {
            "text/plain": [
              "<Figure size 640x480 with 2 Axes>"
            ],
            "image/png": "[encoded data removed]"
          },
          "metadata": {}
        }
      ],
      "source": [
        "cm = confusion_matrix(predictions, ytest)\n",
        "disp = ConfusionMatrixDisplay(confusion_matrix=cm)\n",
        "disp.plot(cmap=plt.cm.Blues)\n",
        "plt.show()"
      ]
    },
    {
      "cell_type": "markdown",
      "metadata": {
        "id": "4U0tqJax7KAi"
      },
      "source": [
        "# Part 3: cvKNN"
      ]
    },
    {
      "cell_type": "markdown",
      "metadata": {
        "id": "7iY-gtYx7NXK"
      },
      "source": [
        "## a) K chosen by 10 fold CV from scratch"
      ]
    },
    {
      "cell_type": "code",
      "execution_count": null,
      "metadata": {
        "id": "xCBCssnUAfaH"
      },
      "outputs": [],
      "source": [
        "import numpy as np\n",
        "np.random.seed(7216)\n",
        "# Split 200 datasets into 10 groups\n",
        "data = np.arange(0, 200)\n",
        "np.random.shuffle(data)\n",
        "groups = np.array_split(data, 10)"
      ]
    },
    {
      "cell_type": "code",
      "execution_count": null,
      "metadata": {
        "id": "9sTwPNHulOKi"
      },
      "outputs": [],
      "source": [
        "#confirm the training data for cross validation\n",
        "remaining_groups = [group for i, group in enumerate(groups) if i != 2]\n",
        "remaining_groups = np.concatenate(remaining_groups)"
      ]
    },
    {
      "cell_type": "code",
      "execution_count": null,
      "metadata": {
        "id": "Tz8HfEWgvxCY"
      },
      "outputs": [],
      "source": [
        "import statistics\n",
        "import warnings\n",
        "warnings.filterwarnings('ignore')"
      ]
    },
    {
      "cell_type": "code",
      "execution_count": null,
      "metadata": {
        "id": "DfF1qUNms4X4"
      },
      "outputs": [],
      "source": [
        "#cross validation\n",
        "cv_error_k_all = []\n",
        "for k in range(1, 181):         #maximum k is 180 since we split original traindata into : train data 180 observations / test data 20 observations\n",
        "  knn = KNeighborsClassifier(n_neighbors=k)  #repeat knn with differing k values\n",
        "  cv_error_k=[]\n",
        "  for j in range(0,10):\n",
        "    remaining_groups = [group for i, group in enumerate(groups) if j != i]\n",
        "    remaining_groups = np.concatenate(remaining_groups)\n",
        "    knn.fit(traindata[remaining_groups],ytrain[remaining_groups]) #train data with 9 groups,\n",
        "    cv_predict=knn.predict(traindata[groups[j]])  # test the fitted model with the remaining 1 group\n",
        "    cm = confusion_matrix(cv_predict, ytrain[groups[j]]) #confusion matrix to verify the predictions\n",
        "    cv_error=cm[0,1]+cm[1,0]  #find out the total mismatches with the predicted y values vs the actual y values from test data\n",
        "    cv_error_k.append(cv_error)\n",
        "    cv_error_k_mean = statistics.mean(cv_error_k) #the mean of the cv error is the cv error for the specified k\n",
        "  cv_error_k_all.append(cv_error_k_mean) # add all the cv errors for each k into a list"
      ]
    },
    {
      "cell_type": "code",
      "execution_count": null,
      "metadata": {
        "colab": {
          "base_uri": "https://localhost:8080/"
        },
        "id": "9327eqtOh4Gl",
        "outputId": "5176f9df-db10-4364-a846-7925b09490e9"
      },
      "outputs": [
        {
          "output_type": "execute_result",
          "data": {
            "text/plain": [
              "2"
            ]
          },
          "metadata": {},
          "execution_count": 19
        }
      ],
      "source": [
        "np.min(cv_error_k_all)"
      ]
    },
    {
      "cell_type": "code",
      "execution_count": null,
      "metadata": {
        "colab": {
          "base_uri": "https://localhost:8080/"
        },
        "id": "aF4wLmathQoi",
        "outputId": "9e931406-bb20-4946-b61d-aeec500b3aad"
      },
      "outputs": [
        {
          "output_type": "execute_result",
          "data": {
            "text/plain": [
              "50"
            ]
          },
          "metadata": {},
          "execution_count": 20
        }
      ],
      "source": [
        "np.max(np.where(cv_error_k_all == np.min(cv_error_k_all)))+1 # find the k with the smallest cv errors, and out of the k values find the biggest k"
      ]
    },
    {
      "cell_type": "markdown",
      "metadata": {
        "id": "nH1bpp-u1N_m"
      },
      "source": [
        "## b) Apply code on test data"
      ]
    },
    {
      "cell_type": "code",
      "execution_count": null,
      "metadata": {
        "colab": {
          "base_uri": "https://localhost:8080/",
          "height": 449
        },
        "id": "2wG4jsBe1Nw5",
        "outputId": "7897d704-a8e6-4969-8acb-524f06c1f644"
      },
      "outputs": [
        {
          "output_type": "display_data",
          "data": {
            "text/plain": [
              "<Figure size 640x480 with 2 Axes>"
            ],
            "image/png": "[encoded data removed]"
          },
          "metadata": {}
        }
      ],
      "source": [
        "knn = KNeighborsClassifier(n_neighbors=50)\n",
        "knn.fit(traindata, ytrain)\n",
        "predictions = knn.predict(testdata)\n",
        "cm = confusion_matrix(predictions, ytest)\n",
        "disp = ConfusionMatrixDisplay(confusion_matrix=cm)\n",
        "disp.plot(cmap=plt.cm.Blues)\n",
        "plt.show()"
      ]
    },
    {
      "cell_type": "code",
      "execution_count": null,
      "metadata": {
        "colab": {
          "base_uri": "https://localhost:8080/"
        },
        "id": "jqlezOa_06Lo",
        "outputId": "1f11c5e5-9ef5-4282-f4c1-fe2ebaa42c11"
      },
      "outputs": [
        {
          "output_type": "execute_result",
          "data": {
            "text/plain": [
              "0.1902"
            ]
          },
          "metadata": {},
          "execution_count": 22
        }
      ],
      "source": [
        "test_error=(cm[0,1]+cm[1,0])/ len(ytest)\n",
        "test_error"
      ]
    },
    {
      "cell_type": "markdown",
      "metadata": {
        "id": "jBBfTmca9xCo"
      },
      "source": [
        "# Part 4: Bayes rule"
      ]
    },
    {
      "cell_type": "markdown",
      "source": [
        "## a) Implement Bayes rule from scratch"
      ],
      "metadata": {
        "id": "TcG_EPg9ZusM"
      }
    },
    {
      "cell_type": "markdown",
      "source": [
        "d1 = ${\\| x - m_{1l} \\|^2}$  \n",
        "d0 = ${\\| x - m_{0l} \\|^2}$  \n",
        "\n",
        "\n",
        "L1 = $\\sum_{l=1}^{10} \\exp\\left( - \\frac{\\| x - m_{1l} \\|^2}{2s^2} \\right)$  \n",
        "L0 = $\\sum_{l=1}^{10} \\exp\\left( - \\frac{\\| x - m_{0l} \\|^2}{2s^2} \\right)$  "
      ],
      "metadata": {
        "id": "i4n36p4jWfnD"
      }
    },
    {
      "cell_type": "code",
      "execution_count": null,
      "metadata": {
        "id": "ezGrmv6euXkE"
      },
      "outputs": [],
      "source": [
        "# Calculate Likelihood ratio L = L1/L0\n",
        "def likelihood(test, m1, m0, s):\n",
        "    # Calculate Distance from data points to each of the class\n",
        "    def calc_dist(test, m):\n",
        "      x2 = np.sum(test**2, axis=1)\n",
        "      y2 = np.sum(m**2, axis=1)\n",
        "      xy = np.matmul(test, m.T)\n",
        "      x2 = x2.reshape(-1, 1)\n",
        "      d = x2 - 2*xy + y2\n",
        "      return d\n",
        "    d0 = calc_dist(test, m0) # distance from all test data to class 0\n",
        "    d1 = calc_dist(test, m1) # distance from all test data to class 1\n",
        "\n",
        "    # Sum distance for 10 centers each\n",
        "    L0 = np.sum(np.exp(-d0 / (2 * s**2)), axis=1)\n",
        "    L1 = np.sum(np.exp(-d1 / (2 * s**2)), axis=1)\n",
        "\n",
        "    return L1/L0 # return the likelihood"
      ]
    },
    {
      "cell_type": "code",
      "execution_count": null,
      "metadata": {
        "id": "G2Cfne1lzje-"
      },
      "outputs": [],
      "source": [
        "# Bayes Classifier\n",
        "L = likelihood(testdata, m1, m0, s)\n",
        "y_pred = np.where(L>1, 1, 0) # if the likelihood is bigger than 1, y is 1"
      ]
    },
    {
      "cell_type": "markdown",
      "source": [
        "## b) Compare predicted value with real value"
      ],
      "metadata": {
        "id": "pfIshQ0LZ5mZ"
      }
    },
    {
      "cell_type": "code",
      "execution_count": null,
      "metadata": {
        "colab": {
          "base_uri": "https://localhost:8080/",
          "height": 454
        },
        "id": "66arYWqu0bMG",
        "outputId": "5b23962e-ab16-4161-f4dd-3585aa1e9d42"
      },
      "outputs": [
        {
          "output_type": "display_data",
          "data": {
            "text/plain": [
              "<Figure size 640x480 with 2 Axes>"
            ],
            "image/png": "[encoded data removed]"
          },
          "metadata": {}
        }
      ],
      "source": [
        "from sklearn.metrics import confusion_matrix, ConfusionMatrixDisplay\n",
        "import seaborn as sns\n",
        "\n",
        "conf_matrix = confusion_matrix(ytest, y_pred)\n",
        "sns.heatmap(conf_matrix, fmt=\"d\", cmap=\"Blues\", annot=True)\n",
        "\n",
        "plt.ylabel(\"True label\")\n",
        "plt.xlabel(\"Predicted label\")\n",
        "plt.show()"
      ]
    },
    {
      "cell_type": "markdown",
      "metadata": {
        "id": "XExQq9ob5irU"
      },
      "source": [
        "# Part 5: Simulation Study"
      ]
    },
    {
      "cell_type": "markdown",
      "metadata": {
        "id": "qPhOXBYWwWC5"
      },
      "source": [
        "## a) Graph: KNN vs cvKNN vs Bayesrule"
      ]
    },
    {
      "cell_type": "code",
      "source": [
        "test_error_k7=[]\n",
        "test_error_kcv=[]\n",
        "bestk_all=[]\n",
        "test_error_bayes=[]\n",
        "\n",
        "for i in range(1,51):\n",
        "    train_n = 100\n",
        "    test_n = 5000\n",
        "\n",
        "    # Train data\n",
        "    id1_train = np.random.randint(csize, size=train_n)\n",
        "    id0_train = np.random.randint(csize, size=train_n)\n",
        "\n",
        "    s = np.sqrt(float(1)/5)\n",
        "\n",
        "    traindata = np.random.normal(size=(2 * train_n, p)) * s \\\n",
        "                + np.concatenate([m1[id1_train, :], m0[id0_train, :]])\n",
        "    ytrain = np.concatenate(([1] * train_n, [0] * train_n))\n",
        "\n",
        "    # Test data\n",
        "    id1_test = np.random.randint(csize, size=test_n)\n",
        "    id0_test = np.random.randint(csize, size=test_n)\n",
        "\n",
        "    testdata = np.random.normal(size=(2 * test_n, p)) * s \\\n",
        "              + np.concatenate([m1[id1_test, :], m0[id0_test, :]])\n",
        "    ytest = np.concatenate(([1] * test_n, [0] * test_n))\n",
        "    #K=7\n",
        "    knn = KNeighborsClassifier(n_neighbors=k)\n",
        "    knn=knn.fit(traindata, ytrain)\n",
        "    predictions=knn.predict(testdata)\n",
        "    cm = confusion_matrix(predictions, ytest)\n",
        "    test_error=(cm[0,1]+cm[1,0])/len(ytest)\n",
        "    test_error_k7.append(test_error)\n",
        "\n",
        "    #cross validation\n",
        "    cv_error_k_all = []\n",
        "    for k in range(1, 181):\n",
        "      knn = KNeighborsClassifier(n_neighbors=k)\n",
        "      cv_error_k=[]\n",
        "      for j in range(0,10):\n",
        "        remaining_groups = [group for i, group in enumerate(groups) if j != i]\n",
        "        remaining_groups = np.concatenate(remaining_groups)\n",
        "        knn.fit(traindata[remaining_groups],ytrain[remaining_groups])\n",
        "        cv_predict=knn.predict(traindata[groups[j]])\n",
        "        cm = confusion_matrix(cv_predict, ytrain[groups[j]])\n",
        "        cv_error=cm[0,1]+cm[1,0]\n",
        "        cv_error_k.append(cv_error)\n",
        "        cv_error_k_mean = statistics.mean(cv_error_k)\n",
        "      cv_error_k_all.append(cv_error_k_mean)\n",
        "    #record best ks\n",
        "    bestk_k=np.max(np.where(cv_error_k_all == np.min(cv_error_k_all)))+1\n",
        "    bestk_all.append(bestk_k)\n",
        "\n",
        "    #K=CV\n",
        "    knn = KNeighborsClassifier(n_neighbors=bestk_k)\n",
        "    knn=knn.fit(traindata, ytrain)\n",
        "    predictions=knn.predict(testdata)\n",
        "    cm = confusion_matrix(predictions, ytest)\n",
        "    test_error=(cm[0,1]+cm[1,0])/len(ytest)\n",
        "    test_error_kcv.append(test_error)\n",
        "\n",
        "    #Bayes rule\n",
        "    L = likelihood(testdata, m1, m0, s)\n",
        "    y_pred = np.where(L>1, 1, 0)\n",
        "    cm = confusion_matrix(ytest, y_pred)\n",
        "    test_error=(cm[0,1]+cm[1,0])/len(ytest)\n",
        "    test_error_bayes.append(test_error)"
      ],
      "metadata": {
        "id": "YaGXzP5PlgIX"
      },
      "execution_count": null,
      "outputs": []
    },
    {
      "cell_type": "code",
      "execution_count": null,
      "metadata": {
        "colab": {
          "base_uri": "https://localhost:8080/",
          "height": 391
        },
        "id": "HEfanIiullsv",
        "outputId": "60d3d141-57f4-4881-ca39-b3ee8073117c"
      },
      "outputs": [
        {
          "output_type": "display_data",
          "data": {
            "text/plain": [
              "<Figure size 600x400 with 1 Axes>"
            ],
            "image/png": "[encoded data removed]"
          },
          "metadata": {}
        }
      ],
      "source": [
        "import matplotlib.pyplot as plt\n",
        "import seaborn as sns\n",
        "\n",
        "plt.figure(figsize=(6, 4))\n",
        "sns.boxplot(data=[test_error_k7, test_error_kcv, test_error_bayes])\n",
        "\n",
        "# Customize plot\n",
        "plt.xticks([0, 1, 2], ['KNN(K=7)', 'cvKNN','Bayes'])\n",
        "plt.title('Test Errors for KNN vs cvKNN vs Bayes')\n",
        "plt.ylabel('Values')\n",
        "plt.show()"
      ]
    },
    {
      "cell_type": "markdown",
      "metadata": {
        "id": "hzm8zIDkwH9t"
      },
      "source": [
        "## b) Numerical Report of best 50 K values"
      ]
    },
    {
      "cell_type": "code",
      "source": [
        "#numerical report of the 50 chosen K values\n",
        "import pandas as pd\n",
        "pd.DataFrame(bestk_all).describe()"
      ],
      "metadata": {
        "colab": {
          "base_uri": "https://localhost:8080/",
          "height": 300
        },
        "id": "LKV9JzUcpFZ7",
        "outputId": "4262a894-435c-4ec2-d338-3579e661467b"
      },
      "execution_count": null,
      "outputs": [
        {
          "output_type": "execute_result",
          "data": {
            "text/plain": [
              "                0\n",
              "count   50.000000\n",
              "mean    46.140000\n",
              "std     33.992202\n",
              "min      5.000000\n",
              "25%     14.250000\n",
              "50%     39.500000\n",
              "75%     73.000000\n",
              "max    114.000000"
            ],
            "text/html": [
              "\n",
              "  <div id=\"df-e0b86114-713a-4ed6-af17-df54931edabf\" class=\"colab-df-container\">\n",
              "    <div>\n",
              "<style scoped>\n",
              "    .dataframe tbody tr th:only-of-type {\n",
              "        vertical-align: middle;\n",
              "    }\n",
              "\n",
              "    .dataframe tbody tr th {\n",
              "        vertical-align: top;\n",
              "    }\n",
              "\n",
              "    .dataframe thead th {\n",
              "        text-align: right;\n",
              "    }\n",
              "</style>\n",
              "<table border=\"1\" class=\"dataframe\">\n",
              "  <thead>\n",
              "    <tr style=\"text-align: right;\">\n",
              "      <th></th>\n",
              "      <th>0</th>\n",
              "    </tr>\n",
              "  </thead>\n",
              "  <tbody>\n",
              "    <tr>\n",
              "      <th>count</th>\n",
              "      <td>50.000000</td>\n",
              "    </tr>\n",
              "    <tr>\n",
              "      <th>mean</th>\n",
              "      <td>46.140000</td>\n",
              "    </tr>\n",
              "    <tr>\n",
              "      <th>std</th>\n",
              "      <td>33.992202</td>\n",
              "    </tr>\n",
              "    <tr>\n",
              "      <th>min</th>\n",
              "      <td>5.000000</td>\n",
              "    </tr>\n",
              "    <tr>\n",
              "      <th>25%</th>\n",
              "      <td>14.250000</td>\n",
              "    </tr>\n",
              "    <tr>\n",
              "      <th>50%</th>\n",
              "      <td>39.500000</td>\n",
              "    </tr>\n",
              "    <tr>\n",
              "      <th>75%</th>\n",
              "      <td>73.000000</td>\n",
              "    </tr>\n",
              "    <tr>\n",
              "      <th>max</th>\n",
              "      <td>114.000000</td>\n",
              "    </tr>\n",
              "  </tbody>\n",
              "</table>\n",
              "</div>\n",
              "    <div class=\"colab-df-buttons\">\n",
              "\n",
              "  <div class=\"colab-df-container\">\n",
              "    <button class=\"colab-df-convert\" onclick=\"convertToInteractive('df-e0b86114-713a-4ed6-af17-df54931edabf')\"\n",
              "            title=\"Convert this dataframe to an interactive table.\"\n",
              "            style=\"display:none;\">\n",
              "\n",
              "  <svg xmlns=\"http://www.w3.org/2000/svg\" height=\"24px\" viewBox=\"0 -960 960 960\">\n",
              "    <path d=\"M120-120v-720h720v720H120Zm60-500h600v-160H180v160Zm220 220h160v-160H400v160Zm0 220h160v-160H400v160ZM180-400h160v-160H180v160Zm440 0h160v-160H620v160ZM180-180h160v-160H180v160Zm440 0h160v-160H620v160Z\"/>\n",
              "  </svg>\n",
              "    </button>\n",
              "\n",
              "  <style>\n",
              "    .colab-df-container {\n",
              "      display:flex;\n",
              "      gap: 12px;\n",
              "    }\n",
              "\n",
              "    .colab-df-convert {\n",
              "      background-color: #E8F0FE;\n",
              "      border: none;\n",
              "      border-radius: 50%;\n",
              "      cursor: pointer;\n",
              "      display: none;\n",
              "      fill: #1967D2;\n",
              "      height: 32px;\n",
              "      padding: 0 0 0 0;\n",
              "      width: 32px;\n",
              "    }\n",
              "\n",
              "    .colab-df-convert:hover {\n",
              "      background-color: #E2EBFA;\n",
              "      box-shadow: 0px 1px 2px rgba(60, 64, 67, 0.3), 0px 1px 3px 1px rgba(60, 64, 67, 0.15);\n",
              "      fill: #174EA6;\n",
              "    }\n",
              "\n",
              "    .colab-df-buttons div {\n",
              "      margin-bottom: 4px;\n",
              "    }\n",
              "\n",
              "    [theme=dark] .colab-df-convert {\n",
              "      background-color: #3B4455;\n",
              "      fill: #D2E3FC;\n",
              "    }\n",
              "\n",
              "    [theme=dark] .colab-df-convert:hover {\n",
              "      background-color: #434B5C;\n",
              "      box-shadow: 0px 1px 3px 1px rgba(0, 0, 0, 0.15);\n",
              "      filter: drop-shadow(0px 1px 2px rgba(0, 0, 0, 0.3));\n",
              "      fill: #FFFFFF;\n",
              "    }\n",
              "  </style>\n",
              "\n",
              "    <script>\n",
              "      const buttonEl =\n",
              "        document.querySelector('#df-e0b86114-713a-4ed6-af17-df54931edabf button.colab-df-convert');\n",
              "      buttonEl.style.display =\n",
              "        google.colab.kernel.accessAllowed ? 'block' : 'none';\n",
              "\n",
              "      async function convertToInteractive(key) {\n",
              "        const element = document.querySelector('#df-e0b86114-713a-4ed6-af17-df54931edabf');\n",
              "        const dataTable =\n",
              "          await google.colab.kernel.invokeFunction('convertToInteractive',\n",
              "                                                    [key], {});\n",
              "        if (!dataTable) return;\n",
              "\n",
              "        const docLinkHtml = 'Like what you see? Visit the ' +\n",
              "          '<a target=\"_blank\" href=https://colab.research.google.com/notebooks/data_table.ipynb>data table notebook</a>'\n",
              "          + ' to learn more about interactive tables.';\n",
              "        element.innerHTML = '';\n",
              "        dataTable['output_type'] = 'display_data';\n",
              "        await google.colab.output.renderOutput(dataTable, element);\n",
              "        const docLink = document.createElement('div');\n",
              "        docLink.innerHTML = docLinkHtml;\n",
              "        element.appendChild(docLink);\n",
              "      }\n",
              "    </script>\n",
              "  </div>\n",
              "\n",
              "\n",
              "<div id=\"df-34b9b5b6-97ce-40fd-93d9-2c9f135389a6\">\n",
              "  <button class=\"colab-df-quickchart\" onclick=\"quickchart('df-34b9b5b6-97ce-40fd-93d9-2c9f135389a6')\"\n",
              "            title=\"Suggest charts\"\n",
              "            style=\"display:none;\">\n",
              "\n",
              "<svg xmlns=\"http://www.w3.org/2000/svg\" height=\"24px\"viewBox=\"0 0 24 24\"\n",
              "     width=\"24px\">\n",
              "    <g>\n",
              "        <path d=\"M19 3H5c-1.1 0-2 .9-2 2v14c0 1.1.9 2 2 2h14c1.1 0 2-.9 2-2V5c0-1.1-.9-2-2-2zM9 17H7v-7h2v7zm4 0h-2V7h2v10zm4 0h-2v-4h2v4z\"/>\n",
              "    </g>\n",
              "</svg>\n",
              "  </button>\n",
              "\n",
              "<style>\n",
              "  .colab-df-quickchart {\n",
              "      --bg-color: #E8F0FE;\n",
              "      --fill-color: #1967D2;\n",
              "      --hover-bg-color: #E2EBFA;\n",
              "      --hover-fill-color: #174EA6;\n",
              "      --disabled-fill-color: #AAA;\n",
              "      --disabled-bg-color: #DDD;\n",
              "  }\n",
              "\n",
              "  [theme=dark] .colab-df-quickchart {\n",
              "      --bg-color: #3B4455;\n",
              "      --fill-color: #D2E3FC;\n",
              "      --hover-bg-color: #434B5C;\n",
              "      --hover-fill-color: #FFFFFF;\n",
              "      --disabled-bg-color: #3B4455;\n",
              "      --disabled-fill-color: #666;\n",
              "  }\n",
              "\n",
              "  .colab-df-quickchart {\n",
              "    background-color: var(--bg-color);\n",
              "    border: none;\n",
              "    border-radius: 50%;\n",
              "    cursor: pointer;\n",
              "    display: none;\n",
              "    fill: var(--fill-color);\n",
              "    height: 32px;\n",
              "    padding: 0;\n",
              "    width: 32px;\n",
              "  }\n",
              "\n",
              "  .colab-df-quickchart:hover {\n",
              "    background-color: var(--hover-bg-color);\n",
              "    box-shadow: 0 1px 2px rgba(60, 64, 67, 0.3), 0 1px 3px 1px rgba(60, 64, 67, 0.15);\n",
              "    fill: var(--button-hover-fill-color);\n",
              "  }\n",
              "\n",
              "  .colab-df-quickchart-complete:disabled,\n",
              "  .colab-df-quickchart-complete:disabled:hover {\n",
              "    background-color: var(--disabled-bg-color);\n",
              "    fill: var(--disabled-fill-color);\n",
              "    box-shadow: none;\n",
              "  }\n",
              "\n",
              "  .colab-df-spinner {\n",
              "    border: 2px solid var(--fill-color);\n",
              "    border-color: transparent;\n",
              "    border-bottom-color: var(--fill-color);\n",
              "    animation:\n",
              "      spin 1s steps(1) infinite;\n",
              "  }\n",
              "\n",
              "  @keyframes spin {\n",
              "    0% {\n",
              "      border-color: transparent;\n",
              "      border-bottom-color: var(--fill-color);\n",
              "      border-left-color: var(--fill-color);\n",
              "    }\n",
              "    20% {\n",
              "      border-color: transparent;\n",
              "      border-left-color: var(--fill-color);\n",
              "      border-top-color: var(--fill-color);\n",
              "    }\n",
              "    30% {\n",
              "      border-color: transparent;\n",
              "      border-left-color: var(--fill-color);\n",
              "      border-top-color: var(--fill-color);\n",
              "      border-right-color: var(--fill-color);\n",
              "    }\n",
              "    40% {\n",
              "      border-color: transparent;\n",
              "      border-right-color: var(--fill-color);\n",
              "      border-top-color: var(--fill-color);\n",
              "    }\n",
              "    60% {\n",
              "      border-color: transparent;\n",
              "      border-right-color: var(--fill-color);\n",
              "    }\n",
              "    80% {\n",
              "      border-color: transparent;\n",
              "      border-right-color: var(--fill-color);\n",
              "      border-bottom-color: var(--fill-color);\n",
              "    }\n",
              "    90% {\n",
              "      border-color: transparent;\n",
              "      border-bottom-color: var(--fill-color);\n",
              "    }\n",
              "  }\n",
              "</style>\n",
              "\n",
              "  <script>\n",
              "    async function quickchart(key) {\n",
              "      const quickchartButtonEl =\n",
              "        document.querySelector('#' + key + ' button');\n",
              "      quickchartButtonEl.disabled = true;  // To prevent multiple clicks.\n",
              "      quickchartButtonEl.classList.add('colab-df-spinner');\n",
              "      try {\n",
              "        const charts = await google.colab.kernel.invokeFunction(\n",
              "            'suggestCharts', [key], {});\n",
              "      } catch (error) {\n",
              "        console.error('Error during call to suggestCharts:', error);\n",
              "      }\n",
              "      quickchartButtonEl.classList.remove('colab-df-spinner');\n",
              "      quickchartButtonEl.classList.add('colab-df-quickchart-complete');\n",
              "    }\n",
              "    (() => {\n",
              "      let quickchartButtonEl =\n",
              "        document.querySelector('#df-34b9b5b6-97ce-40fd-93d9-2c9f135389a6 button');\n",
              "      quickchartButtonEl.style.display =\n",
              "        google.colab.kernel.accessAllowed ? 'block' : 'none';\n",
              "    })();\n",
              "  </script>\n",
              "</div>\n",
              "\n",
              "    </div>\n",
              "  </div>\n"
            ],
            "application/vnd.google.colaboratory.intrinsic+json": {
              "type": "dataframe",
              "summary": "{\n  \"name\": \"pd\",\n  \"rows\": 8,\n  \"fields\": [\n    {\n      \"column\": 0,\n      \"properties\": {\n        \"dtype\": \"number\",\n        \"std\": 34.30275535497542,\n        \"min\": 5.0,\n        \"max\": 114.0,\n        \"num_unique_values\": 8,\n        \"samples\": [\n          46.14,\n          39.5,\n          50.0\n        ],\n        \"semantic_type\": \"\",\n        \"description\": \"\"\n      }\n    }\n  ]\n}"
            }
          },
          "metadata": {},
          "execution_count": 28
        }
      ]
    },
    {
      "cell_type": "code",
      "source": [
        "!jupyter nbconvert --to html /C:\\Users\\Jaehoon Jung\\Desktop\\Jaehoon\\542.ipynb"
      ],
      "metadata": {
        "id": "_u691LuheRWY",
        "outputId": "31e1f29f-38cb-41b5-8118-754bf9f3681a",
        "colab": {
          "base_uri": "https://localhost:8080/"
        }
      },
      "execution_count": null,
      "outputs": [
        {
          "output_type": "stream",
          "name": "stdout",
          "text": [
            "[NbConvertApp] WARNING | pattern '/C:UsersJaehoon' matched no files\n",
            "[NbConvertApp] WARNING | pattern 'JungDesktopJaehoon542.ipynb' matched no files\n",
            "This application is used to convert notebook files (*.ipynb)\n",
            "        to various other formats.\n",
            "\n",
            "        WARNING: THE COMMANDLINE INTERFACE MAY CHANGE IN FUTURE RELEASES.\n",
            "\n",
            "Options\n",
            "=======\n",
            "The options below are convenience aliases to configurable class-options,\n",
            "as listed in the \"Equivalent to\" description-line of the aliases.\n",
            "To see all configurable class-options for some <cmd>, use:\n",
            "    <cmd> --help-all\n",
            "\n",
            "--debug\n",
            "    set log level to logging.DEBUG (maximize logging output)\n",
            "    Equivalent to: [--Application.log_level=10]\n",
            "--show-config\n",
            "    Show the application's configuration (human-readable format)\n",
            "    Equivalent to: [--Application.show_config=True]\n",
            "--show-config-json\n",
            "    Show the application's configuration (json format)\n",
            "    Equivalent to: [--Application.show_config_json=True]\n",
            "--generate-config\n",
            "    generate default config file\n",
            "    Equivalent to: [--JupyterApp.generate_config=True]\n",
            "-y\n",
            "    Answer yes to any questions instead of prompting.\n",
            "    Equivalent to: [--JupyterApp.answer_yes=True]\n",
            "--execute\n",
            "    Execute the notebook prior to export.\n",
            "    Equivalent to: [--ExecutePreprocessor.enabled=True]\n",
            "--allow-errors\n",
            "    Continue notebook execution even if one of the cells throws an error and include the error message in the cell output (the default behaviour is to abort conversion). This flag is only relevant if '--execute' was specified, too.\n",
            "    Equivalent to: [--ExecutePreprocessor.allow_errors=True]\n",
            "--stdin\n",
            "    read a single notebook file from stdin. Write the resulting notebook with default basename 'notebook.*'\n",
            "    Equivalent to: [--NbConvertApp.from_stdin=True]\n",
            "--stdout\n",
            "    Write notebook output to stdout instead of files.\n",
            "    Equivalent to: [--NbConvertApp.writer_class=StdoutWriter]\n",
            "--inplace\n",
            "    Run nbconvert in place, overwriting the existing notebook (only\n",
            "            relevant when converting to notebook format)\n",
            "    Equivalent to: [--NbConvertApp.use_output_suffix=False --NbConvertApp.export_format=notebook --FilesWriter.build_directory=]\n",
            "--clear-output\n",
            "    Clear output of current file and save in place,\n",
            "            overwriting the existing notebook.\n",
            "    Equivalent to: [--NbConvertApp.use_output_suffix=False --NbConvertApp.export_format=notebook --FilesWriter.build_directory= --ClearOutputPreprocessor.enabled=True]\n",
            "--no-prompt\n",
            "    Exclude input and output prompts from converted document.\n",
            "    Equivalent to: [--TemplateExporter.exclude_input_prompt=True --TemplateExporter.exclude_output_prompt=True]\n",
            "--no-input\n",
            "    Exclude input cells and output prompts from converted document.\n",
            "            This mode is ideal for generating code-free reports.\n",
            "    Equivalent to: [--TemplateExporter.exclude_output_prompt=True --TemplateExporter.exclude_input=True --TemplateExporter.exclude_input_prompt=True]\n",
            "--allow-chromium-download\n",
            "    Whether to allow downloading chromium if no suitable version is found on the system.\n",
            "    Equivalent to: [--WebPDFExporter.allow_chromium_download=True]\n",
            "--disable-chromium-sandbox\n",
            "    Disable chromium security sandbox when converting to PDF..\n",
            "    Equivalent to: [--WebPDFExporter.disable_sandbox=True]\n",
            "--show-input\n",
            "    Shows code input. This flag is only useful for dejavu users.\n",
            "    Equivalent to: [--TemplateExporter.exclude_input=False]\n",
            "--embed-images\n",
            "    Embed the images as base64 dataurls in the output. This flag is only useful for the HTML/WebPDF/Slides exports.\n",
            "    Equivalent to: [--HTMLExporter.embed_images=True]\n",
            "--sanitize-html\n",
            "    Whether the HTML in Markdown cells and cell outputs should be sanitized..\n",
            "    Equivalent to: [--HTMLExporter.sanitize_html=True]\n",
            "--log-level=<Enum>\n",
            "    Set the log level by value or name.\n",
            "    Choices: any of [0, 10, 20, 30, 40, 50, 'DEBUG', 'INFO', 'WARN', 'ERROR', 'CRITICAL']\n",
            "    Default: 30\n",
            "    Equivalent to: [--Application.log_level]\n",
            "--config=<Unicode>\n",
            "    Full path of a config file.\n",
            "    Default: ''\n",
            "    Equivalent to: [--JupyterApp.config_file]\n",
            "--to=<Unicode>\n",
            "    The export format to be used, either one of the built-in formats\n",
            "            ['asciidoc', 'custom', 'html', 'latex', 'markdown', 'notebook', 'pdf', 'python', 'rst', 'script', 'slides', 'webpdf']\n",
            "            or a dotted object name that represents the import path for an\n",
            "            ``Exporter`` class\n",
            "    Default: ''\n",
            "    Equivalent to: [--NbConvertApp.export_format]\n",
            "--template=<Unicode>\n",
            "    Name of the template to use\n",
            "    Default: ''\n",
            "    Equivalent to: [--TemplateExporter.template_name]\n",
            "--template-file=<Unicode>\n",
            "    Name of the template file to use\n",
            "    Default: None\n",
            "    Equivalent to: [--TemplateExporter.template_file]\n",
            "--theme=<Unicode>\n",
            "    Template specific theme(e.g. the name of a JupyterLab CSS theme distributed\n",
            "    as prebuilt extension for the lab template)\n",
            "    Default: 'light'\n",
            "    Equivalent to: [--HTMLExporter.theme]\n",
            "--sanitize_html=<Bool>\n",
            "    Whether the HTML in Markdown cells and cell outputs should be sanitized.This\n",
            "    should be set to True by nbviewer or similar tools.\n",
            "    Default: False\n",
            "    Equivalent to: [--HTMLExporter.sanitize_html]\n",
            "--writer=<DottedObjectName>\n",
            "    Writer class used to write the\n",
            "                                        results of the conversion\n",
            "    Default: 'FilesWriter'\n",
            "    Equivalent to: [--NbConvertApp.writer_class]\n",
            "--post=<DottedOrNone>\n",
            "    PostProcessor class used to write the\n",
            "                                        results of the conversion\n",
            "    Default: ''\n",
            "    Equivalent to: [--NbConvertApp.postprocessor_class]\n",
            "--output=<Unicode>\n",
            "    overwrite base name use for output files.\n",
            "                can only be used when converting one notebook at a time.\n",
            "    Default: ''\n",
            "    Equivalent to: [--NbConvertApp.output_base]\n",
            "--output-dir=<Unicode>\n",
            "    Directory to write output(s) to. Defaults\n",
            "                                  to output to the directory of each notebook. To recover\n",
            "                                  previous default behaviour (outputting to the current\n",
            "                                  working directory) use . as the flag value.\n",
            "    Default: ''\n",
            "    Equivalent to: [--FilesWriter.build_directory]\n",
            "--reveal-prefix=<Unicode>\n",
            "    The URL prefix for reveal.js (version 3.x).\n",
            "            This defaults to the reveal CDN, but can be any url pointing to a copy\n",
            "            of reveal.js.\n",
            "            For speaker notes to work, this must be a relative path to a local\n",
            "            copy of reveal.js: e.g., \"reveal.js\".\n",
            "            If a relative path is given, it must be a subdirectory of the\n",
            "            current directory (from which the server is run).\n",
            "            See the usage documentation\n",
            "            (https://nbconvert.readthedocs.io/en/latest/usage.html#reveal-js-html-slideshow)\n",
            "            for more details.\n",
            "    Default: ''\n",
            "    Equivalent to: [--SlidesExporter.reveal_url_prefix]\n",
            "--nbformat=<Enum>\n",
            "    The nbformat version to write.\n",
            "            Use this to downgrade notebooks.\n",
            "    Choices: any of [1, 2, 3, 4]\n",
            "    Default: 4\n",
            "    Equivalent to: [--NotebookExporter.nbformat_version]\n",
            "\n",
            "Examples\n",
            "--------\n",
            "\n",
            "    The simplest way to use nbconvert is\n",
            "\n",
            "            > jupyter nbconvert mynotebook.ipynb --to html\n",
            "\n",
            "            Options include ['asciidoc', 'custom', 'html', 'latex', 'markdown', 'notebook', 'pdf', 'python', 'rst', 'script', 'slides', 'webpdf'].\n",
            "\n",
            "            > jupyter nbconvert --to latex mynotebook.ipynb\n",
            "\n",
            "            Both HTML and LaTeX support multiple output templates. LaTeX includes\n",
            "            'base', 'article' and 'report'.  HTML includes 'basic', 'lab' and\n",
            "            'classic'. You can specify the flavor of the format used.\n",
            "\n",
            "            > jupyter nbconvert --to html --template lab mynotebook.ipynb\n",
            "\n",
            "            You can also pipe the output to stdout, rather than a file\n",
            "\n",
            "            > jupyter nbconvert mynotebook.ipynb --stdout\n",
            "\n",
            "            PDF is generated via latex\n",
            "\n",
            "            > jupyter nbconvert mynotebook.ipynb --to pdf\n",
            "\n",
            "            You can get (and serve) a Reveal.js-powered slideshow\n",
            "\n",
            "            > jupyter nbconvert myslides.ipynb --to slides --post serve\n",
            "\n",
            "            Multiple notebooks can be given at the command line in a couple of\n",
            "            different ways:\n",
            "\n",
            "            > jupyter nbconvert notebook*.ipynb\n",
            "            > jupyter nbconvert notebook1.ipynb notebook2.ipynb\n",
            "\n",
            "            or you can specify the notebooks list in a config file, containing::\n",
            "\n",
            "                c.NbConvertApp.notebooks = [\"my_notebook.ipynb\"]\n",
            "\n",
            "            > jupyter nbconvert --config mycfg.py\n",
            "\n",
            "To see all available configurables, use `--help-all`.\n",
            "\n"
          ]
        }
      ]
    }
  ],
  "metadata": {
    "colab": {
      "provenance": []
    },
    "kernelspec": {
      "display_name": "Python 3",
      "name": "python3"
    },
    "language_info": {
      "name": "python"
    }
  },
  "nbformat": 4,
  "nbformat_minor": 0
}