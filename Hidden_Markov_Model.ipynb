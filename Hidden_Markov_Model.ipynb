{
  "nbformat": 4,
  "nbformat_minor": 0,
  "metadata": {
    "colab": {
      "provenance": []
    },
    "kernelspec": {
      "name": "python3",
      "display_name": "Python 3"
    },
    "language_info": {
      "name": "python"
    }
  },
  "cells": [
    {
      "cell_type": "markdown",
      "source": [
        "Baum-Welch (i.e., EM) algorithm and the Viterbi algorithm from scratch for a Hidden Markov Model that produces an outcome sequence of discrete random variables with three distinct values.  \n",
        "\n",
        "Parameters for Discrete HMM:  \n",
        "• mx: Count of distinct values X can take.  \n",
        "• mz: Count of distinct values Z can take.  \n",
        "• w: An mz-by-1 probability vector representing the initial distribution for Z1.  \n",
        "• A: The mz-by-mz transition probability matrix that models the progression from Zt to Zt+1.  \n",
        "• B: The mz-by-mx emission probability matrix, indicating how X is produced from Z.  \n",
        "\n",
        "Parameters A and B get updated and the value for mx is given and mz is specified.  "
      ],
      "metadata": {
        "id": "vwZx9FY_hKCc"
      }
    },
    {
      "cell_type": "markdown",
      "source": [
        "## Baum-Welch Algorihtm"
      ],
      "metadata": {
        "id": "nxMMRENXYSur"
      }
    },
    {
      "cell_type": "code",
      "source": [
        "import numpy as np\n",
        "\n",
        "# Forward\n",
        "def forward(data, A, B, w):\n",
        "    T = len(data)\n",
        "    mz = len(A)\n",
        "    alpha = np.zeros((T, mz))\n",
        "    alpha[0] = w * B[:, data[0] - 1]\n",
        "\n",
        "    for t in range(1, T):\n",
        "        for j in range(mz):\n",
        "            alpha[t, j] = np.sum(alpha[t-1] * A[:, j]) * B[j, data[t] - 1]\n",
        "\n",
        "    return alpha\n",
        "\n",
        "# Backward\n",
        "def backward(data, A, B):\n",
        "    T = len(data)\n",
        "    mz = len(A)\n",
        "    beta = np.zeros((T, mz))\n",
        "    beta[T-1] = 1\n",
        "\n",
        "    for t in range(T-2, -1, -1):\n",
        "        for i in range(mz):\n",
        "            beta[t, i] = np.sum(beta[t+1] * A[i, :] * B[:, data[t+1] - 1])\n",
        "\n",
        "    return beta\n",
        "\n",
        "# Baum-Welch EM Algorithm\n",
        "def BW_onestep(data, A, B, w):\n",
        "    alpha = forward(data, A, B, w)\n",
        "    beta = backward(data, A, B)\n",
        "    T = len(data)\n",
        "    mz, mx = B.shape\n",
        "\n",
        "    # gamma and xi\n",
        "    gamma = np.zeros((T, mz))\n",
        "    xi = np.zeros((T-1, mz, mz))\n",
        "\n",
        "    for t in range(T-1):\n",
        "        denom = np.sum(alpha[t] * beta[t])\n",
        "        gamma[t] = (alpha[t] * beta[t]) / denom\n",
        "        for i in range(mz):\n",
        "            xi[t, i] = alpha[t, i] * A[i] * B[:, data[t+1] - 1] * beta[t+1] / denom\n",
        "\n",
        "    gamma[T-1] = (alpha[T-1] * beta[T-1]) / np.sum(alpha[T-1] * beta[T-1])\n",
        "\n",
        "    # A, B update\n",
        "    A = np.sum(xi, axis=0) / np.sum(gamma[:-1], axis=0)[:, None]\n",
        "    for k in range(mx):\n",
        "        B[:, k] = np.sum(gamma[np.array(data) == k + 1], axis=0) / np.sum(gamma, axis=0)\n",
        "\n",
        "    return A, B\n",
        "\n",
        "def myBW(data, A, B, w, iterations):\n",
        "    for _ in range(iterations):\n",
        "        A, B = BW_onestep(data, A, B, w)\n",
        "    return A, B\n"
      ],
      "metadata": {
        "id": "JItzPWgLAheK"
      },
      "execution_count": null,
      "outputs": []
    },
    {
      "cell_type": "markdown",
      "source": [
        "## Viterbi Algorihtm"
      ],
      "metadata": {
        "id": "eifAN_5DY6Ma"
      }
    },
    {
      "cell_type": "code",
      "source": [
        "# Viterbi\n",
        "def myViterbi(data, A, B, w):\n",
        "    T = len(data)\n",
        "    mz = len(A)\n",
        "    log_prob = np.zeros((T, mz))\n",
        "    path = np.zeros((T, mz), dtype=int)\n",
        "\n",
        "    log_prob[0] = np.log(w) + np.log(B[:, data[0] - 1])\n",
        "\n",
        "    for t in range(1, T):\n",
        "        for j in range(mz):\n",
        "            prob = log_prob[t-1] + np.log(A[:, j]) + np.log(B[j, data[t] - 1])\n",
        "            path[t, j] = np.argmax(prob)\n",
        "            log_prob[t, j] = np.max(prob)\n",
        "\n",
        "    Z = np.zeros(T, dtype=int)\n",
        "    Z[T-1] = np.argmax(log_prob[T-1])\n",
        "    for t in range(T-2, -1, -1):\n",
        "        Z[t] = path[t+1, Z[t+1]]\n",
        "\n",
        "    return Z"
      ],
      "metadata": {
        "id": "n8tRvVLJBaJz"
      },
      "execution_count": null,
      "outputs": []
    },
    {
      "cell_type": "markdown",
      "source": [
        "## Testing"
      ],
      "metadata": {
        "id": "jGpJsKnIZEmc"
      }
    },
    {
      "cell_type": "markdown",
      "source": [
        "### Test 1"
      ],
      "metadata": {
        "id": "yf6cBZ5aZGfz"
      }
    },
    {
      "cell_type": "code",
      "source": [
        "import urllib.request\n",
        "url = \"data.txt\"\n",
        "response = urllib.request.urlopen(url)\n",
        "data = list(map(int, response.read().decode('utf-8').split()))\n",
        "\n",
        "w = np.array([0.5, 0.5])\n",
        "A = np.array([[0.5, 0.5], [0.5, 0.5]])\n",
        "B = np.array([[1/9, 3/9, 5/9], [1/6, 2/6, 3/6]])\n",
        "\n",
        "\n",
        "iterations = 100\n",
        "A_updated, B_updated = myBW(data, A, B, w, iterations)\n",
        "\n",
        "print(\"Updated Transition Matrix A after Baum-Welch:\")\n",
        "print(A_updated)\n",
        "print(\"\\nUpdated Emission Matrix B after Baum-Welch:\")\n",
        "print(B_updated)\n",
        "\n",
        "Z = myViterbi(data, A_updated, B_updated, w)\n",
        "Z = Z + 1\n",
        "print(\"\\nState Sequence from Viterbi Algorithm:\")\n",
        "print(Z)\n",
        "\n",
        "url2 = \"Z.txt\"\n",
        "response2 = urllib.request.urlopen(url2)\n",
        "Z_true = list(map(int, response2.read().decode('utf-8').split()))\n",
        "Z_true = np.array(Z_true)\n",
        "print(\"\\nTrue State Sequence:\")\n",
        "print(Z_true)"
      ],
      "metadata": {
        "colab": {
          "base_uri": "https://localhost:8080/"
        },
        "id": "Rq-Ff0M6ZGAM",
        "outputId": "f4148727-714e-4ed5-a9bb-3f21e3f01276"
      },
      "execution_count": null,
      "outputs": [
        {
          "output_type": "stream",
          "name": "stdout",
          "text": [
            "Updated Transition Matrix A after Baum-Welch:\n",
            "[[0.49793938 0.50206062]\n",
            " [0.44883431 0.55116569]]\n",
            "\n",
            "Updated Emission Matrix B after Baum-Welch:\n",
            "[[0.22159897 0.20266127 0.57573976]\n",
            " [0.34175148 0.17866665 0.47958186]]\n",
            "\n",
            "State Sequence from Viterbi Algorithm:\n",
            "[1 1 1 1 1 1 1 2 1 1 1 1 1 2 2 1 1 1 1 1 1 1 2 2 2 2 2 1 1 1 1 1 1 1 2 1 1\n",
            " 1 1 1 1 1 1 2 2 1 1 1 1 1 1 2 2 2 1 1 1 1 2 2 2 2 1 1 1 1 1 1 1 1 2 2 2 2\n",
            " 2 2 2 2 2 2 2 2 2 2 2 2 2 2 2 2 2 1 1 1 1 2 1 1 1 1 1 1 1 1 1 1 1 1 1 2 1\n",
            " 1 1 1 2 1 1 1 1 1 1 2 2 2 2 2 2 2 2 2 2 2 2 1 1 1 1 1 1 1 2 2 2 2 2 2 2 2\n",
            " 2 2 2 1 1 1 2 2 2 2 2 2 1 1 1 1 1 2 2 2 2 2 2 2 2 2 1 1 1 2 2 2 1 1 1 1 1\n",
            " 1 1 1 2 2 2 2 2 1 1 1 1 1 1 1]\n",
            "\n",
            "True State Sequence:\n",
            "[1 1 1 1 1 1 1 2 1 1 1 1 1 2 2 1 1 1 1 1 1 1 2 2 2 2 2 1 1 1 1 1 1 1 2 1 1\n",
            " 1 1 1 1 1 1 2 2 1 1 1 1 1 1 2 2 2 1 1 1 1 2 2 2 2 1 1 1 1 1 1 1 1 2 2 2 2\n",
            " 2 2 2 2 2 2 2 2 2 2 2 2 2 2 2 2 2 1 1 1 1 2 1 1 1 1 1 1 1 1 1 1 1 1 1 2 1\n",
            " 1 1 1 2 1 1 1 1 1 1 2 2 2 2 2 2 2 2 2 2 2 2 1 1 1 1 1 1 1 2 2 2 2 2 2 2 2\n",
            " 2 2 2 1 1 1 2 2 2 2 2 2 1 1 1 1 1 2 2 2 2 2 2 2 2 2 1 1 1 2 2 2 1 1 1 1 1\n",
            " 1 1 1 2 2 2 2 2 1 1 1 1 1 1 1]\n"
          ]
        }
      ]
    },
    {
      "cell_type": "markdown",
      "source": [
        "### Test 2"
      ],
      "metadata": {
        "id": "keIUqjaeZN1k"
      }
    },
    {
      "cell_type": "code",
      "source": [
        "w = np.array([0.5, 0.5])\n",
        "A = np.array([[0.5, 0.5], [0.5, 0.5]])\n",
        "B = np.array([[1/3, 1/3, 1/3], [1/3, 1/3, 1/3]])\n",
        "\n",
        "\n",
        "iterations = 20\n",
        "A_updated, B_updated = myBW(data, A, B, w, iterations)\n",
        "\n",
        "print(\"Updated Transition Matrix A after Baum-Welch:\")\n",
        "print(A_updated)\n",
        "print(\"\\nUpdated Emission Matrix B after Baum-Welch:\")\n",
        "print(B_updated)"
      ],
      "metadata": {
        "colab": {
          "base_uri": "https://localhost:8080/"
        },
        "id": "JSgZsO0XZOc6",
        "outputId": "ff62dd88-9a85-42bf-e5a1-ebb2d624568e"
      },
      "execution_count": null,
      "outputs": [
        {
          "output_type": "stream",
          "name": "stdout",
          "text": [
            "Updated Transition Matrix A after Baum-Welch:\n",
            "[[0.5 0.5]\n",
            " [0.5 0.5]]\n",
            "\n",
            "Updated Emission Matrix B after Baum-Welch:\n",
            "[[0.285 0.19  0.525]\n",
            " [0.285 0.19  0.525]]\n"
          ]
        }
      ]
    },
    {
      "cell_type": "code",
      "source": [
        "iterations = 100\n",
        "A_updated, B_updated = myBW(data, A, B, w, iterations)\n",
        "\n",
        "print(\"Updated Transition Matrix A after Baum-Welch:\")\n",
        "print(A_updated)\n",
        "print(\"\\nUpdated Emission Matrix B after Baum-Welch:\")\n",
        "print(B_updated)"
      ],
      "metadata": {
        "colab": {
          "base_uri": "https://localhost:8080/"
        },
        "id": "ctdGTEqjZzOi",
        "outputId": "ed5d5514-b2ad-48df-b9a3-4173cd47bf12"
      },
      "execution_count": null,
      "outputs": [
        {
          "output_type": "stream",
          "name": "stdout",
          "text": [
            "Updated Transition Matrix A after Baum-Welch:\n",
            "[[0.5 0.5]\n",
            " [0.5 0.5]]\n",
            "\n",
            "Updated Emission Matrix B after Baum-Welch:\n",
            "[[0.285 0.19  0.525]\n",
            " [0.285 0.19  0.525]]\n"
          ]
        }
      ]
    },
    {
      "cell_type": "markdown",
      "source": [
        "The updated A and B matrices from the EM algorithm are the same after both 20 and 100 iterations, which shows that the matrices are not getting updated properly. If the emission matrix B has the same values for different hidden states, it cannot tell the difference between the probabilities of getting different observations. Because of this, the B matrix does not update well since the algorithm cannot tell the hidden states apart based on the observations. This issue causes both the A and B matrices to stay mostly the same.  "
      ],
      "metadata": {
        "id": "7wUOna10amuX"
      }
    }
  ]
}